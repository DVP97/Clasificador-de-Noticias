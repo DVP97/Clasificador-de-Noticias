{
 "metadata": {
  "language_info": {
   "codemirror_mode": {
    "name": "ipython",
    "version": 3
   },
   "file_extension": ".py",
   "mimetype": "text/x-python",
   "name": "python",
   "nbconvert_exporter": "python",
   "pygments_lexer": "ipython3",
   "version": "3.8.5-final"
  },
  "orig_nbformat": 2,
  "kernelspec": {
   "name": "python3",
   "display_name": "Python 3",
   "language": "python"
  }
 },
 "nbformat": 4,
 "nbformat_minor": 2,
 "cells": [
  {
   "cell_type": "code",
   "execution_count": 107,
   "metadata": {},
   "outputs": [],
   "source": [
    "import glob\n",
    "import numpy as np\n",
    "from nltk.tokenize import word_tokenize\n",
    "from nltk.corpus import stopwords\n",
    "from nltk.stem import SnowballStemmer\n",
    "import pandas as pd\n",
    "from sklearn.model_selection import train_test_split\n",
    "from sklearn.feature_extraction.text import CountVectorizer\n",
    "from sklearn.feature_extraction.text import TfidfVectorizer\n",
    "from sklearn.naive_bayes import MultinomialNB\n",
    "from sklearn import preprocessing\n",
    "from sklearn.tree import DecisionTreeClassifier"
   ]
  },
  {
   "cell_type": "code",
   "execution_count": 66,
   "metadata": {},
   "outputs": [],
   "source": [
    "#Ingresar txt a dataset\n",
    "def ingresar_noticias(direccion, dataset):\n",
    "    for ficheroIN in (glob.glob(direccion)):\n",
    "        dataset.append(ficheroIN)\n",
    "\n",
    "\n",
    "#Remover puntuación\n",
    "def remove_punctuation ( text ):\n",
    "    return re.sub('[%s]' % re.escape(string.punctuation), ' ', text)\n",
    "\n",
    "\n",
    "#Pasar todo a minúsculas\n",
    "def convert_lower_case(data):\n",
    "    return np.char.lower(data)\n",
    "\n",
    "\n",
    "#Remover lista de parada\n",
    "def remove_stop_words(data):\n",
    "    stop_words = stopwords.words('spanish')\n",
    "    words = word_tokenize(str(data))\n",
    "    new_text = \"\"\n",
    "    for w in words:\n",
    "        if w not in stop_words and len(w) > 1:\n",
    "            new_text = new_text + \" \" + w\n",
    "    return new_text\n",
    "\n",
    "\n",
    "#Quitar puntuación\n",
    "def remove_punctuation(data):\n",
    "    symbols = \"!\\\"#$%&()*+-./:;<=>?@[\\]^_`{|}~\\n\"\n",
    "    for i in range(len(symbols)):\n",
    "        data = np.char.replace(data, symbols[i], ' ')\n",
    "        data = np.char.replace(data, \"  \", \" \")\n",
    "    data = np.char.replace(data, ',', '')\n",
    "    return data\n",
    "\n",
    "\n",
    "#Quitar apostrofe\n",
    "def remove_apostrophe(data):\n",
    "    return np.char.replace(data, \"'\", \"\")\n",
    "\n",
    "\n",
    "#Stem\n",
    "def stemming(data):\n",
    "    stemmer= SnowballStemmer('spanish')\n",
    "\n",
    "    tokens = word_tokenize(str(data))\n",
    "    new_text = \"\"\n",
    "    for w in tokens:\n",
    "        new_text = new_text + \" \" + stemmer.stem(w)\n",
    "    return new_text\n",
    "\n",
    "\n",
    "#Función Preprocesado de datos\n",
    "def preprocess(data):\n",
    "    data = convert_lower_case(data)\n",
    "    data = remove_punctuation(data)\n",
    "    data = remove_apostrophe(data)\n",
    "    data = remove_stop_words(data)\n",
    "    data = stemming(data)\n",
    "    data = remove_punctuation(data)\n",
    "    data = stemming(data)\n",
    "    data = remove_punctuation(data)\n",
    "    data = remove_stop_words(data)\n",
    "    return data\n"
   ]
  },
  {
   "cell_type": "code",
   "execution_count": 95,
   "metadata": {},
   "outputs": [],
   "source": [
    "#Noticias\n",
    "noticias = []\n",
    "ingresar_noticias(\"despoblación/*.txt\", noticias)\n",
    "ingresar_noticias(\"no_despoblación/*.txt\", noticias)"
   ]
  },
  {
   "cell_type": "code",
   "execution_count": 96,
   "metadata": {},
   "outputs": [
    {
     "output_type": "stream",
     "name": "stdout",
     "text": [
      "Cantidad de tento procesado:  497\n"
     ]
    }
   ],
   "source": [
    "#Texto procesado\n",
    "processed_text = []\n",
    "clases = []\n",
    "\n",
    "def texto_procesado(processed_text):\n",
    "    cont = 0\n",
    "    processed_text = []\n",
    "    for i in range(len(noticias)):\n",
    "        archivo = open(noticias[i], \"r\", encoding='utf-8', errors='ignore')\n",
    "        texto = archivo.read().strip()\n",
    "        archivo.close()\n",
    "        cont = cont +1\n",
    "        processed_text.append(preprocess(texto))\n",
    "    print('Cantidad de tento procesado: ', len(processed_text))\n",
    "    \n",
    "    return processed_text\n",
    "\n",
    "processed_text = texto_procesado(processed_text)"
   ]
  },
  {
   "cell_type": "code",
   "execution_count": 99,
   "metadata": {},
   "outputs": [],
   "source": [
    "clases = []\n",
    "for i in range (0,158):\n",
    "    clases.append(\"Despoblacion\") #Despoblacion\n",
    "\n",
    "for i in range (158,len(processed_text)):\n",
    "    clases.append(\"No despoblacion\") #No despoblacion"
   ]
  },
  {
   "cell_type": "code",
   "execution_count": 100,
   "metadata": {},
   "outputs": [
    {
     "output_type": "execute_result",
     "data": {
      "text/plain": [
       "'Despoblacion'"
      ]
     },
     "metadata": {},
     "execution_count": 100
    }
   ],
   "source": [
    "clases[1]"
   ]
  },
  {
   "cell_type": "code",
   "execution_count": 101,
   "metadata": {},
   "outputs": [
    {
     "output_type": "execute_result",
     "data": {
      "text/plain": [
       "LabelEncoder()"
      ]
     },
     "metadata": {},
     "execution_count": 101
    }
   ],
   "source": [
    "le = preprocessing.LabelEncoder()\n",
    "le.fit(clases)"
   ]
  },
  {
   "cell_type": "code",
   "execution_count": 102,
   "metadata": {},
   "outputs": [],
   "source": [
    "cv = TfidfVectorizer()"
   ]
  },
  {
   "cell_type": "code",
   "execution_count": 103,
   "metadata": {},
   "outputs": [
    {
     "output_type": "execute_result",
     "data": {
      "text/plain": [
       "array([[0.        , 0.        , 0.        , ..., 0.        , 0.        ,\n",
       "        0.        ],\n",
       "       [0.06590624, 0.        , 0.        , ..., 0.        , 0.        ,\n",
       "        0.        ],\n",
       "       [0.        , 0.01794678, 0.        , ..., 0.        , 0.        ,\n",
       "        0.        ],\n",
       "       ...,\n",
       "       [0.        , 0.        , 0.        , ..., 0.        , 0.        ,\n",
       "        0.        ],\n",
       "       [0.        , 0.        , 0.        , ..., 0.        , 0.        ,\n",
       "        0.        ],\n",
       "       [0.        , 0.02404986, 0.        , ..., 0.        , 0.        ,\n",
       "        0.        ]])"
      ]
     },
     "metadata": {},
     "execution_count": 103
    }
   ],
   "source": [
    "X_traincv = cv.fit_transform(processed_text)\n",
    "X_traincv.toarray()"
   ]
  },
  {
   "cell_type": "code",
   "execution_count": 104,
   "metadata": {},
   "outputs": [
    {
     "output_type": "execute_result",
     "data": {
      "text/plain": [
       "[array(['00', '01', '10', '11', '12', '2020', '20m', '20minut', '30',\n",
       "        '4401832', 'acud', 'apoy', 'aquel', 'aquell', 'asim', 'asist',\n",
       "        'cad', 'capital', 'centr', 'cinc', 'ciudad', 'colect', 'comunic',\n",
       "        'concentr', 'conect', 'consultori', 'convoc', 'convocatori', 'cre',\n",
       "        'das', 'des', 'detall', 'dich', 'dign', 'dos', 'ello', 'ep',\n",
       "        'espa', 'evit', 'form', 'formulari', 'fot', 'frent', 'hor',\n",
       "        'https', 'hum', 'imgen', 'inter', 'local', 'marc', 'mdic', 'minut',\n",
       "        'mostr', 'nort', 'notici', 'octubr', 'organizacin', 'par', 'parn',\n",
       "        'part', 'particip', 'ped', 'person', 'pgin', 'plataform', 'previ',\n",
       "        'provinci', 'prxim', 'pued', 'puert', 'qui', 'referent', 'rest',\n",
       "        'rural', 'salud', 'san', 'sanidadsaludespaaesp', 'sbad', 'segn',\n",
       "        'sori', 'sub', 'sur', 'tambin', 'tod', 'unan', 'unir', 'vaci',\n",
       "        'vaciadasoriasb', 'vecin', 'virtual', 'web', 'www'], dtype='<U650')]"
      ]
     },
     "metadata": {},
     "execution_count": 104
    }
   ],
   "source": [
    "a = X_traincv.toarray()\n",
    "cv.inverse_transform(a[1])"
   ]
  },
  {
   "cell_type": "code",
   "execution_count": 105,
   "metadata": {},
   "outputs": [
    {
     "output_type": "execute_result",
     "data": {
      "text/plain": [
       "MultinomialNB()"
      ]
     },
     "metadata": {},
     "execution_count": 105
    }
   ],
   "source": [
    "mnb = MultinomialNB()\n",
    "mnb.fit(X_traincv, clases)"
   ]
  },
  {
   "cell_type": "code",
   "execution_count": 108,
   "metadata": {},
   "outputs": [
    {
     "output_type": "execute_result",
     "data": {
      "text/plain": [
       "DecisionTreeClassifier(random_state=0)"
      ]
     },
     "metadata": {},
     "execution_count": 108
    }
   ],
   "source": [
    "tree = DecisionTreeClassifier(random_state=0)\n",
    "tree.fit(X_traincv, clases)"
   ]
  },
  {
   "cell_type": "code",
   "execution_count": 109,
   "metadata": {},
   "outputs": [
    {
     "output_type": "execute_result",
     "data": {
      "text/plain": [
       "array(['Despoblacion', 'Despoblacion', 'Despoblacion', 'Despoblacion',\n",
       "       'Despoblacion', 'Despoblacion', 'Despoblacion', 'Despoblacion',\n",
       "       'Despoblacion', 'Despoblacion', 'Despoblacion', 'Despoblacion',\n",
       "       'Despoblacion', 'Despoblacion', 'Despoblacion', 'Despoblacion',\n",
       "       'Despoblacion', 'Despoblacion', 'Despoblacion', 'Despoblacion',\n",
       "       'Despoblacion', 'Despoblacion', 'Despoblacion', 'Despoblacion',\n",
       "       'Despoblacion', 'Despoblacion', 'Despoblacion', 'Despoblacion',\n",
       "       'Despoblacion', 'Despoblacion', 'Despoblacion', 'Despoblacion',\n",
       "       'Despoblacion', 'Despoblacion', 'Despoblacion', 'Despoblacion',\n",
       "       'Despoblacion', 'Despoblacion', 'Despoblacion', 'Despoblacion',\n",
       "       'Despoblacion', 'Despoblacion', 'Despoblacion', 'Despoblacion',\n",
       "       'Despoblacion', 'Despoblacion', 'Despoblacion', 'Despoblacion',\n",
       "       'Despoblacion', 'Despoblacion', 'Despoblacion', 'Despoblacion',\n",
       "       'Despoblacion', 'Despoblacion', 'Despoblacion', 'Despoblacion',\n",
       "       'Despoblacion', 'Despoblacion', 'Despoblacion', 'Despoblacion',\n",
       "       'Despoblacion', 'Despoblacion', 'Despoblacion', 'Despoblacion',\n",
       "       'Despoblacion', 'Despoblacion', 'Despoblacion', 'Despoblacion',\n",
       "       'Despoblacion', 'Despoblacion', 'Despoblacion', 'Despoblacion',\n",
       "       'Despoblacion', 'Despoblacion', 'Despoblacion', 'Despoblacion',\n",
       "       'Despoblacion', 'Despoblacion', 'Despoblacion', 'Despoblacion',\n",
       "       'Despoblacion', 'Despoblacion', 'Despoblacion', 'Despoblacion',\n",
       "       'Despoblacion', 'Despoblacion', 'Despoblacion', 'Despoblacion',\n",
       "       'Despoblacion', 'Despoblacion', 'Despoblacion', 'Despoblacion',\n",
       "       'Despoblacion', 'Despoblacion', 'Despoblacion', 'Despoblacion',\n",
       "       'Despoblacion', 'Despoblacion', 'Despoblacion', 'Despoblacion',\n",
       "       'Despoblacion', 'Despoblacion', 'Despoblacion', 'Despoblacion',\n",
       "       'Despoblacion', 'Despoblacion', 'Despoblacion', 'Despoblacion',\n",
       "       'Despoblacion', 'Despoblacion', 'Despoblacion', 'Despoblacion',\n",
       "       'Despoblacion', 'Despoblacion', 'Despoblacion', 'Despoblacion',\n",
       "       'Despoblacion', 'Despoblacion', 'Despoblacion', 'Despoblacion',\n",
       "       'Despoblacion', 'Despoblacion', 'Despoblacion', 'Despoblacion',\n",
       "       'Despoblacion', 'Despoblacion', 'Despoblacion', 'Despoblacion',\n",
       "       'Despoblacion', 'Despoblacion', 'Despoblacion', 'Despoblacion',\n",
       "       'Despoblacion', 'Despoblacion', 'Despoblacion', 'Despoblacion',\n",
       "       'Despoblacion', 'Despoblacion', 'Despoblacion', 'Despoblacion',\n",
       "       'Despoblacion', 'Despoblacion', 'Despoblacion', 'Despoblacion',\n",
       "       'Despoblacion', 'Despoblacion', 'Despoblacion', 'Despoblacion',\n",
       "       'Despoblacion', 'Despoblacion', 'Despoblacion', 'Despoblacion',\n",
       "       'Despoblacion', 'Despoblacion', 'Despoblacion', 'Despoblacion',\n",
       "       'Despoblacion', 'Despoblacion', 'No despoblacion',\n",
       "       'No despoblacion', 'No despoblacion', 'No despoblacion',\n",
       "       'No despoblacion', 'No despoblacion', 'No despoblacion',\n",
       "       'No despoblacion', 'No despoblacion', 'No despoblacion',\n",
       "       'No despoblacion', 'No despoblacion', 'No despoblacion',\n",
       "       'No despoblacion', 'No despoblacion', 'No despoblacion',\n",
       "       'No despoblacion', 'No despoblacion', 'No despoblacion',\n",
       "       'No despoblacion', 'No despoblacion', 'No despoblacion',\n",
       "       'No despoblacion', 'No despoblacion', 'No despoblacion',\n",
       "       'No despoblacion', 'No despoblacion', 'No despoblacion',\n",
       "       'No despoblacion', 'No despoblacion', 'No despoblacion',\n",
       "       'No despoblacion', 'No despoblacion', 'No despoblacion',\n",
       "       'No despoblacion', 'No despoblacion', 'No despoblacion',\n",
       "       'No despoblacion', 'No despoblacion', 'No despoblacion',\n",
       "       'No despoblacion', 'No despoblacion', 'No despoblacion',\n",
       "       'No despoblacion', 'No despoblacion', 'No despoblacion',\n",
       "       'No despoblacion', 'No despoblacion', 'No despoblacion',\n",
       "       'No despoblacion', 'No despoblacion', 'No despoblacion',\n",
       "       'No despoblacion', 'No despoblacion', 'No despoblacion',\n",
       "       'No despoblacion', 'No despoblacion', 'No despoblacion',\n",
       "       'No despoblacion', 'No despoblacion', 'No despoblacion',\n",
       "       'No despoblacion', 'No despoblacion', 'No despoblacion',\n",
       "       'No despoblacion', 'No despoblacion', 'No despoblacion',\n",
       "       'No despoblacion', 'No despoblacion', 'No despoblacion',\n",
       "       'No despoblacion', 'No despoblacion', 'No despoblacion',\n",
       "       'No despoblacion', 'No despoblacion', 'No despoblacion',\n",
       "       'No despoblacion', 'No despoblacion', 'No despoblacion',\n",
       "       'No despoblacion', 'No despoblacion', 'No despoblacion',\n",
       "       'No despoblacion', 'No despoblacion', 'No despoblacion',\n",
       "       'No despoblacion', 'No despoblacion', 'No despoblacion',\n",
       "       'No despoblacion', 'No despoblacion', 'No despoblacion',\n",
       "       'No despoblacion', 'No despoblacion', 'No despoblacion',\n",
       "       'No despoblacion', 'No despoblacion', 'No despoblacion',\n",
       "       'No despoblacion', 'No despoblacion', 'No despoblacion',\n",
       "       'No despoblacion', 'No despoblacion', 'No despoblacion',\n",
       "       'No despoblacion', 'No despoblacion', 'No despoblacion',\n",
       "       'No despoblacion', 'No despoblacion', 'No despoblacion',\n",
       "       'No despoblacion', 'No despoblacion', 'No despoblacion',\n",
       "       'No despoblacion', 'No despoblacion', 'No despoblacion',\n",
       "       'No despoblacion', 'No despoblacion', 'No despoblacion',\n",
       "       'No despoblacion', 'No despoblacion', 'No despoblacion',\n",
       "       'No despoblacion', 'No despoblacion', 'No despoblacion',\n",
       "       'No despoblacion', 'No despoblacion', 'No despoblacion',\n",
       "       'No despoblacion', 'No despoblacion', 'No despoblacion',\n",
       "       'No despoblacion', 'No despoblacion', 'No despoblacion',\n",
       "       'No despoblacion', 'No despoblacion', 'No despoblacion',\n",
       "       'No despoblacion', 'No despoblacion', 'No despoblacion',\n",
       "       'No despoblacion', 'No despoblacion', 'No despoblacion',\n",
       "       'No despoblacion', 'No despoblacion', 'No despoblacion',\n",
       "       'No despoblacion', 'No despoblacion', 'No despoblacion',\n",
       "       'No despoblacion', 'No despoblacion', 'No despoblacion',\n",
       "       'No despoblacion', 'No despoblacion', 'No despoblacion',\n",
       "       'No despoblacion', 'No despoblacion', 'No despoblacion',\n",
       "       'No despoblacion', 'No despoblacion', 'No despoblacion',\n",
       "       'No despoblacion', 'No despoblacion', 'No despoblacion',\n",
       "       'No despoblacion', 'No despoblacion', 'No despoblacion',\n",
       "       'No despoblacion', 'No despoblacion', 'No despoblacion',\n",
       "       'No despoblacion', 'No despoblacion', 'No despoblacion',\n",
       "       'No despoblacion', 'No despoblacion', 'No despoblacion',\n",
       "       'No despoblacion', 'No despoblacion', 'No despoblacion',\n",
       "       'No despoblacion', 'No despoblacion', 'No despoblacion',\n",
       "       'No despoblacion', 'No despoblacion', 'No despoblacion',\n",
       "       'No despoblacion', 'No despoblacion', 'No despoblacion',\n",
       "       'No despoblacion', 'No despoblacion', 'No despoblacion',\n",
       "       'No despoblacion', 'No despoblacion', 'No despoblacion',\n",
       "       'No despoblacion', 'No despoblacion', 'No despoblacion',\n",
       "       'No despoblacion', 'No despoblacion', 'No despoblacion',\n",
       "       'No despoblacion', 'No despoblacion', 'No despoblacion',\n",
       "       'No despoblacion', 'No despoblacion', 'No despoblacion',\n",
       "       'No despoblacion', 'No despoblacion', 'No despoblacion',\n",
       "       'No despoblacion', 'No despoblacion', 'No despoblacion',\n",
       "       'No despoblacion', 'No despoblacion', 'No despoblacion',\n",
       "       'No despoblacion', 'No despoblacion', 'No despoblacion',\n",
       "       'No despoblacion', 'No despoblacion', 'No despoblacion',\n",
       "       'No despoblacion', 'No despoblacion', 'No despoblacion',\n",
       "       'No despoblacion', 'No despoblacion', 'No despoblacion',\n",
       "       'No despoblacion', 'No despoblacion', 'No despoblacion',\n",
       "       'No despoblacion', 'No despoblacion', 'No despoblacion',\n",
       "       'No despoblacion', 'No despoblacion', 'No despoblacion',\n",
       "       'No despoblacion', 'No despoblacion', 'No despoblacion',\n",
       "       'No despoblacion', 'No despoblacion', 'No despoblacion',\n",
       "       'No despoblacion', 'No despoblacion', 'No despoblacion',\n",
       "       'No despoblacion', 'No despoblacion', 'No despoblacion',\n",
       "       'No despoblacion', 'No despoblacion', 'No despoblacion',\n",
       "       'No despoblacion', 'No despoblacion', 'No despoblacion',\n",
       "       'No despoblacion', 'No despoblacion', 'No despoblacion',\n",
       "       'No despoblacion', 'No despoblacion', 'No despoblacion',\n",
       "       'No despoblacion', 'No despoblacion', 'No despoblacion',\n",
       "       'No despoblacion', 'No despoblacion', 'No despoblacion',\n",
       "       'No despoblacion', 'No despoblacion', 'No despoblacion',\n",
       "       'No despoblacion', 'No despoblacion', 'No despoblacion',\n",
       "       'No despoblacion', 'No despoblacion', 'No despoblacion',\n",
       "       'No despoblacion', 'No despoblacion', 'No despoblacion',\n",
       "       'No despoblacion', 'No despoblacion', 'No despoblacion',\n",
       "       'No despoblacion', 'No despoblacion', 'No despoblacion',\n",
       "       'No despoblacion', 'No despoblacion', 'No despoblacion',\n",
       "       'No despoblacion', 'No despoblacion', 'No despoblacion',\n",
       "       'No despoblacion', 'No despoblacion', 'No despoblacion',\n",
       "       'No despoblacion', 'No despoblacion', 'No despoblacion',\n",
       "       'No despoblacion', 'No despoblacion', 'No despoblacion',\n",
       "       'No despoblacion', 'No despoblacion', 'No despoblacion',\n",
       "       'No despoblacion', 'No despoblacion', 'No despoblacion',\n",
       "       'No despoblacion', 'No despoblacion', 'No despoblacion',\n",
       "       'No despoblacion', 'No despoblacion', 'No despoblacion',\n",
       "       'No despoblacion', 'No despoblacion', 'No despoblacion',\n",
       "       'No despoblacion', 'No despoblacion', 'No despoblacion',\n",
       "       'No despoblacion', 'No despoblacion', 'No despoblacion',\n",
       "       'No despoblacion', 'No despoblacion', 'No despoblacion',\n",
       "       'No despoblacion', 'No despoblacion', 'No despoblacion',\n",
       "       'No despoblacion', 'No despoblacion', 'No despoblacion',\n",
       "       'No despoblacion', 'No despoblacion', 'No despoblacion',\n",
       "       'No despoblacion', 'No despoblacion', 'No despoblacion',\n",
       "       'No despoblacion', 'No despoblacion', 'No despoblacion',\n",
       "       'No despoblacion', 'No despoblacion'], dtype='<U15')"
      ]
     },
     "metadata": {},
     "execution_count": 109
    }
   ],
   "source": [
    "pred = tree.predict(X_traincv)\n",
    "pred"
   ]
  },
  {
   "cell_type": "code",
   "execution_count": 106,
   "metadata": {},
   "outputs": [
    {
     "output_type": "execute_result",
     "data": {
      "text/plain": [
       "array(['No despoblacion', 'No despoblacion', 'No despoblacion',\n",
       "       'Despoblacion', 'Despoblacion', 'Despoblacion', 'Despoblacion',\n",
       "       'Despoblacion', 'No despoblacion', 'No despoblacion',\n",
       "       'Despoblacion', 'No despoblacion', 'No despoblacion',\n",
       "       'No despoblacion', 'No despoblacion', 'No despoblacion',\n",
       "       'No despoblacion', 'No despoblacion', 'No despoblacion',\n",
       "       'No despoblacion', 'Despoblacion', 'No despoblacion',\n",
       "       'Despoblacion', 'No despoblacion', 'No despoblacion',\n",
       "       'Despoblacion', 'No despoblacion', 'No despoblacion',\n",
       "       'No despoblacion', 'No despoblacion', 'No despoblacion',\n",
       "       'No despoblacion', 'No despoblacion', 'No despoblacion',\n",
       "       'Despoblacion', 'Despoblacion', 'No despoblacion',\n",
       "       'No despoblacion', 'No despoblacion', 'Despoblacion',\n",
       "       'No despoblacion', 'No despoblacion', 'No despoblacion',\n",
       "       'No despoblacion', 'No despoblacion', 'No despoblacion',\n",
       "       'No despoblacion', 'No despoblacion', 'No despoblacion',\n",
       "       'No despoblacion', 'No despoblacion', 'No despoblacion',\n",
       "       'No despoblacion', 'Despoblacion', 'No despoblacion',\n",
       "       'No despoblacion', 'No despoblacion', 'No despoblacion',\n",
       "       'No despoblacion', 'No despoblacion', 'Despoblacion',\n",
       "       'No despoblacion', 'No despoblacion', 'Despoblacion',\n",
       "       'Despoblacion', 'Despoblacion', 'No despoblacion',\n",
       "       'No despoblacion', 'No despoblacion', 'Despoblacion',\n",
       "       'No despoblacion', 'No despoblacion', 'No despoblacion',\n",
       "       'No despoblacion', 'No despoblacion', 'No despoblacion',\n",
       "       'No despoblacion', 'No despoblacion', 'No despoblacion',\n",
       "       'No despoblacion', 'No despoblacion', 'No despoblacion',\n",
       "       'Despoblacion', 'Despoblacion', 'No despoblacion',\n",
       "       'No despoblacion', 'No despoblacion', 'No despoblacion',\n",
       "       'No despoblacion', 'Despoblacion', 'Despoblacion',\n",
       "       'No despoblacion', 'Despoblacion', 'No despoblacion',\n",
       "       'Despoblacion', 'No despoblacion', 'No despoblacion',\n",
       "       'Despoblacion', 'Despoblacion', 'No despoblacion',\n",
       "       'No despoblacion', 'Despoblacion', 'No despoblacion',\n",
       "       'No despoblacion', 'No despoblacion', 'No despoblacion',\n",
       "       'No despoblacion', 'No despoblacion', 'Despoblacion',\n",
       "       'No despoblacion', 'No despoblacion', 'Despoblacion',\n",
       "       'No despoblacion', 'No despoblacion', 'No despoblacion',\n",
       "       'Despoblacion', 'No despoblacion', 'No despoblacion',\n",
       "       'Despoblacion', 'Despoblacion', 'Despoblacion', 'Despoblacion',\n",
       "       'No despoblacion', 'No despoblacion', 'No despoblacion',\n",
       "       'No despoblacion', 'No despoblacion', 'No despoblacion',\n",
       "       'No despoblacion', 'No despoblacion', 'Despoblacion',\n",
       "       'Despoblacion', 'Despoblacion', 'No despoblacion',\n",
       "       'No despoblacion', 'No despoblacion', 'No despoblacion',\n",
       "       'No despoblacion', 'No despoblacion', 'No despoblacion',\n",
       "       'No despoblacion', 'No despoblacion', 'No despoblacion',\n",
       "       'No despoblacion', 'No despoblacion', 'Despoblacion',\n",
       "       'No despoblacion', 'No despoblacion', 'No despoblacion',\n",
       "       'No despoblacion', 'No despoblacion', 'No despoblacion',\n",
       "       'No despoblacion', 'No despoblacion', 'No despoblacion',\n",
       "       'No despoblacion', 'No despoblacion', 'No despoblacion',\n",
       "       'No despoblacion', 'No despoblacion', 'No despoblacion',\n",
       "       'No despoblacion', 'No despoblacion', 'No despoblacion',\n",
       "       'No despoblacion', 'No despoblacion', 'No despoblacion',\n",
       "       'No despoblacion', 'No despoblacion', 'No despoblacion',\n",
       "       'No despoblacion', 'No despoblacion', 'No despoblacion',\n",
       "       'No despoblacion', 'No despoblacion', 'No despoblacion',\n",
       "       'No despoblacion', 'No despoblacion', 'No despoblacion',\n",
       "       'No despoblacion', 'No despoblacion', 'No despoblacion',\n",
       "       'No despoblacion', 'No despoblacion', 'No despoblacion',\n",
       "       'No despoblacion', 'No despoblacion', 'No despoblacion',\n",
       "       'No despoblacion', 'No despoblacion', 'No despoblacion',\n",
       "       'No despoblacion', 'No despoblacion', 'No despoblacion',\n",
       "       'No despoblacion', 'No despoblacion', 'No despoblacion',\n",
       "       'No despoblacion', 'No despoblacion', 'No despoblacion',\n",
       "       'No despoblacion', 'No despoblacion', 'No despoblacion',\n",
       "       'No despoblacion', 'No despoblacion', 'No despoblacion',\n",
       "       'No despoblacion', 'No despoblacion', 'No despoblacion',\n",
       "       'No despoblacion', 'No despoblacion', 'No despoblacion',\n",
       "       'No despoblacion', 'No despoblacion', 'No despoblacion',\n",
       "       'No despoblacion', 'No despoblacion', 'No despoblacion',\n",
       "       'No despoblacion', 'No despoblacion', 'No despoblacion',\n",
       "       'No despoblacion', 'No despoblacion', 'No despoblacion',\n",
       "       'No despoblacion', 'No despoblacion', 'No despoblacion',\n",
       "       'No despoblacion', 'No despoblacion', 'No despoblacion',\n",
       "       'No despoblacion', 'No despoblacion', 'No despoblacion',\n",
       "       'No despoblacion', 'No despoblacion', 'No despoblacion',\n",
       "       'No despoblacion', 'No despoblacion', 'No despoblacion',\n",
       "       'No despoblacion', 'No despoblacion', 'No despoblacion',\n",
       "       'No despoblacion', 'No despoblacion', 'No despoblacion',\n",
       "       'No despoblacion', 'No despoblacion', 'No despoblacion',\n",
       "       'No despoblacion', 'No despoblacion', 'No despoblacion',\n",
       "       'No despoblacion', 'No despoblacion', 'No despoblacion',\n",
       "       'No despoblacion', 'No despoblacion', 'No despoblacion',\n",
       "       'No despoblacion', 'No despoblacion', 'No despoblacion',\n",
       "       'No despoblacion', 'No despoblacion', 'No despoblacion',\n",
       "       'No despoblacion', 'No despoblacion', 'No despoblacion',\n",
       "       'No despoblacion', 'No despoblacion', 'No despoblacion',\n",
       "       'No despoblacion', 'No despoblacion', 'No despoblacion',\n",
       "       'No despoblacion', 'No despoblacion', 'No despoblacion',\n",
       "       'No despoblacion', 'No despoblacion', 'No despoblacion',\n",
       "       'No despoblacion', 'No despoblacion', 'No despoblacion',\n",
       "       'No despoblacion', 'No despoblacion', 'No despoblacion',\n",
       "       'No despoblacion', 'No despoblacion', 'No despoblacion',\n",
       "       'No despoblacion', 'No despoblacion', 'No despoblacion',\n",
       "       'No despoblacion', 'No despoblacion', 'No despoblacion',\n",
       "       'No despoblacion', 'No despoblacion', 'No despoblacion',\n",
       "       'No despoblacion', 'No despoblacion', 'No despoblacion',\n",
       "       'No despoblacion', 'No despoblacion', 'No despoblacion',\n",
       "       'No despoblacion', 'No despoblacion', 'No despoblacion',\n",
       "       'No despoblacion', 'No despoblacion', 'No despoblacion',\n",
       "       'No despoblacion', 'No despoblacion', 'No despoblacion',\n",
       "       'No despoblacion', 'No despoblacion', 'No despoblacion',\n",
       "       'No despoblacion', 'No despoblacion', 'No despoblacion',\n",
       "       'No despoblacion', 'No despoblacion', 'No despoblacion',\n",
       "       'No despoblacion', 'No despoblacion', 'No despoblacion',\n",
       "       'No despoblacion', 'No despoblacion', 'No despoblacion',\n",
       "       'No despoblacion', 'No despoblacion', 'No despoblacion',\n",
       "       'No despoblacion', 'No despoblacion', 'No despoblacion',\n",
       "       'No despoblacion', 'No despoblacion', 'No despoblacion',\n",
       "       'No despoblacion', 'No despoblacion', 'No despoblacion',\n",
       "       'No despoblacion', 'No despoblacion', 'No despoblacion',\n",
       "       'No despoblacion', 'No despoblacion', 'No despoblacion',\n",
       "       'No despoblacion', 'No despoblacion', 'No despoblacion',\n",
       "       'No despoblacion', 'No despoblacion', 'No despoblacion',\n",
       "       'No despoblacion', 'No despoblacion', 'No despoblacion',\n",
       "       'No despoblacion', 'No despoblacion', 'No despoblacion',\n",
       "       'No despoblacion', 'No despoblacion', 'No despoblacion',\n",
       "       'No despoblacion', 'No despoblacion', 'No despoblacion',\n",
       "       'No despoblacion', 'No despoblacion', 'No despoblacion',\n",
       "       'No despoblacion', 'No despoblacion', 'No despoblacion',\n",
       "       'No despoblacion', 'No despoblacion', 'No despoblacion',\n",
       "       'No despoblacion', 'No despoblacion', 'No despoblacion',\n",
       "       'No despoblacion', 'No despoblacion', 'No despoblacion',\n",
       "       'No despoblacion', 'No despoblacion', 'No despoblacion',\n",
       "       'No despoblacion', 'No despoblacion', 'No despoblacion',\n",
       "       'No despoblacion', 'No despoblacion', 'No despoblacion',\n",
       "       'No despoblacion', 'No despoblacion', 'No despoblacion',\n",
       "       'No despoblacion', 'No despoblacion', 'No despoblacion',\n",
       "       'No despoblacion', 'No despoblacion', 'No despoblacion',\n",
       "       'No despoblacion', 'No despoblacion', 'No despoblacion',\n",
       "       'No despoblacion', 'No despoblacion', 'No despoblacion',\n",
       "       'No despoblacion', 'No despoblacion', 'No despoblacion',\n",
       "       'No despoblacion', 'No despoblacion', 'No despoblacion',\n",
       "       'No despoblacion', 'No despoblacion', 'No despoblacion',\n",
       "       'No despoblacion', 'No despoblacion', 'No despoblacion',\n",
       "       'No despoblacion', 'No despoblacion', 'No despoblacion',\n",
       "       'No despoblacion', 'No despoblacion', 'No despoblacion',\n",
       "       'No despoblacion', 'No despoblacion', 'No despoblacion',\n",
       "       'No despoblacion', 'No despoblacion', 'No despoblacion',\n",
       "       'No despoblacion', 'No despoblacion', 'No despoblacion',\n",
       "       'No despoblacion', 'No despoblacion', 'No despoblacion',\n",
       "       'No despoblacion', 'No despoblacion', 'No despoblacion',\n",
       "       'No despoblacion', 'No despoblacion', 'No despoblacion',\n",
       "       'No despoblacion', 'No despoblacion', 'No despoblacion',\n",
       "       'No despoblacion', 'No despoblacion', 'No despoblacion',\n",
       "       'No despoblacion', 'No despoblacion', 'No despoblacion',\n",
       "       'No despoblacion', 'No despoblacion', 'No despoblacion',\n",
       "       'No despoblacion', 'No despoblacion', 'No despoblacion',\n",
       "       'No despoblacion', 'No despoblacion', 'No despoblacion',\n",
       "       'No despoblacion', 'No despoblacion', 'No despoblacion',\n",
       "       'No despoblacion', 'No despoblacion', 'No despoblacion',\n",
       "       'No despoblacion', 'No despoblacion', 'No despoblacion',\n",
       "       'No despoblacion', 'No despoblacion', 'No despoblacion',\n",
       "       'No despoblacion', 'No despoblacion', 'No despoblacion',\n",
       "       'No despoblacion', 'No despoblacion', 'No despoblacion',\n",
       "       'No despoblacion', 'No despoblacion', 'No despoblacion',\n",
       "       'No despoblacion', 'No despoblacion', 'No despoblacion',\n",
       "       'No despoblacion', 'No despoblacion', 'No despoblacion',\n",
       "       'No despoblacion', 'No despoblacion', 'No despoblacion',\n",
       "       'No despoblacion', 'No despoblacion', 'No despoblacion',\n",
       "       'No despoblacion', 'No despoblacion', 'No despoblacion',\n",
       "       'No despoblacion', 'No despoblacion', 'No despoblacion',\n",
       "       'No despoblacion', 'No despoblacion', 'No despoblacion'],\n",
       "      dtype='<U15')"
      ]
     },
     "metadata": {},
     "execution_count": 106
    }
   ],
   "source": [
    "pred = mnb.predict(X_traincv)\n",
    "pred"
   ]
  },
  {
   "cell_type": "code",
   "execution_count": 88,
   "metadata": {},
   "outputs": [
    {
     "output_type": "execute_result",
     "data": {
      "text/plain": [
       "[array(['01', '09', '100', '1800', '2020', '2025', '20minut', '2100', '35',\n",
       "        '360', '3g', '4366332', '4g', '5g', '75', 'aad', 'abord', 'acab',\n",
       "        'acced', 'acel', 'acomp', 'activ', 'actual', 'adems', 'administr',\n",
       "        'aficion', 'alon', 'ambas', 'ampli', 'ancha',\n",
       "        'anchaeuropaciudadanosespaa5gadministr', 'ancho', 'antigu',\n",
       "        'anunci', 'ao', 'apag', 'aplic', 'aport', 'aprovech', 'apuest',\n",
       "        'as', 'asim', 'autnom', 'automocin', 'avanz', 'baj', 'band', 'bas',\n",
       "        'benefici', 'bord', 'cambi', 'canch', 'capac', 'cas', 'cells',\n",
       "        'cirug', 'ciud', 'ciudad', 'clav', 'client', 'cmput', 'cobertur',\n",
       "        'cobr', 'coch', 'combin', 'comp', 'complement', 'complet',\n",
       "        'compromis', 'computing', 'comun', 'conclu', 'conect', 'contarn',\n",
       "        'cos', 'crtic', 'cualqui', 'cuart', 'cuatr', 'demostr', 'deport',\n",
       "        'descarg', 'despleg', 'desplieg', 'despus', 'destac',\n",
       "        'diferencial', 'digital', 'digitalizacin', 'direct', 'disfrut',\n",
       "        'dispon', 'disposit', 'dobl', 'dss', 'dynamic', 'edge', 'eficaz',\n",
       "        'eficient', 'ejecut', 'ejempl', 'ello', 'emplaz', 'empres',\n",
       "        'encend', 'energ', 'energt', 'enfatiz', 'enorm', 'entret', 'ep',\n",
       "        'equip', 'espa', 'espanol', 'espaol', 'est', 'estacion',\n",
       "        'estandarizacin', 'estn', 'europ', 'excepcion', 'experient',\n",
       "        'extens', 'facilit', 'fas', 'fibr', 'finaliz', 'form', 'fortalez',\n",
       "        'funcin', 'funcion', 'futur', 'gaming', 'gen', 'generacin',\n",
       "        'gestin', 'ghz', 'graci', 'grand', 'habr', 'hac', 'haci',\n",
       "        'hiperconect', 'hog', 'https', 'impuls', 'increment', 'indirect',\n",
       "        'industrial', 'infraestructur', 'inicial', 'inigual', 'inmediat',\n",
       "        'inteligent', 'interrupcion', 'inversion', 'iot', 'ir', 'irn',\n",
       "        'jos', 'jug', 'juli', 'lanz', 'larg', 'latenci', 'licenci', 'lid',\n",
       "        'lleg', 'llev', 'ltim', 'lvarez', 'man', 'manifest', 'mar',\n",
       "        'march', 'masiv', 'mayor', 'medi', 'menor', 'mes', 'mhz',\n",
       "        'milisegund', 'millon', 'moment', 'movil', 'ms', 'multiaccess',\n",
       "        'multitud', 'mvil', 'mxim', 'nec', 'necesari', 'necesit', 'new',\n",
       "        'ngul', 'nic', 'nivel', 'non', 'notici', 'nr', 'nsa', 'nuev',\n",
       "        'objet', 'ofert', 'ofrec', 'oper', 'oportun', 'orden', 'oro',\n",
       "        'pallet', 'pantall', 'part', 'particul', 'pas', 'paulatin',\n",
       "        'pblic', 'pblicastransporteesp', 'pelcul', 'permit', 'person',\n",
       "        'plaz', 'plen', 'poblacin', 'podr', 'posibil', 'posibl', 'prctic',\n",
       "        'present', 'president', 'prim', 'priv', 'proc', 'produc', 'ptic',\n",
       "        'pued', 'puest', 'pymes', 'radi', 'reafirm', 'realiz',\n",
       "        'reconstruccin', 'record', 'recurs', 'red', 'remot', 'requ',\n",
       "        'respuest', 'retransmision', 'revolucin', 'rural', 'sa', 'salt',\n",
       "        'salud', 'sector', 'segn', 'segund', 'ser', 'servici', 'sharing',\n",
       "        'si', 'sid', 'siempr', 'simil', 'slo', 'small', 'spectrum',\n",
       "        'stand', 'sub', 'subray', 'suc', 'supondr', 'sustitu', 'tambin',\n",
       "        'tant', 'tecnolog', 'telefn', 'telefnicaturismoband', 'telefon',\n",
       "        'telfon', 'tend', 'tendr', 'terc', 'tiemp', 'tod', 'tra', 'trabaj',\n",
       "        'transcurr', 'transport', 'transversal', 'trmin', 'turism',\n",
       "        'ultra', 'ultrarrp', 'unas', 'usar', 'uso', 'usuari', 'utiliz',\n",
       "        'vaci', 'vaciadafutur', 'vdeoconsol', 'veloc', 'ventaj', 'vez',\n",
       "        'vid', 'virtualizacin', 'vision', 'www', 'zon'], dtype='<U650')]"
      ]
     },
     "metadata": {},
     "execution_count": 88
    }
   ],
   "source": [
    "cv.inverse_transform(a[0])"
   ]
  },
  {
   "cell_type": "code",
   "execution_count": 89,
   "metadata": {},
   "outputs": [
    {
     "output_type": "execute_result",
     "data": {
      "text/plain": [
       "array(['Despoblacion', 'Despoblacion', 'Despoblacion', 'Despoblacion',\n",
       "       'Despoblacion', 'Despoblacion', 'Despoblacion', 'Despoblacion',\n",
       "       'Despoblacion', 'Despoblacion', 'Despoblacion', 'Despoblacion',\n",
       "       'Despoblacion', 'Despoblacion', 'Despoblacion', 'Despoblacion',\n",
       "       'Despoblacion', 'Despoblacion', 'Despoblacion', 'Despoblacion',\n",
       "       'Despoblacion', 'Despoblacion', 'Despoblacion', 'Despoblacion',\n",
       "       'Despoblacion', 'Despoblacion', 'Despoblacion', 'Despoblacion',\n",
       "       'Despoblacion', 'Despoblacion', 'Despoblacion', 'Despoblacion',\n",
       "       'Despoblacion', 'Despoblacion', 'Despoblacion', 'Despoblacion',\n",
       "       'Despoblacion', 'Despoblacion', 'Despoblacion', 'Despoblacion',\n",
       "       'Despoblacion', 'Despoblacion', 'Despoblacion', 'Despoblacion',\n",
       "       'Despoblacion', 'Despoblacion', 'Despoblacion', 'Despoblacion',\n",
       "       'Despoblacion', 'Despoblacion', 'Despoblacion', 'Despoblacion',\n",
       "       'Despoblacion', 'Despoblacion', 'Despoblacion', 'Despoblacion',\n",
       "       'Despoblacion', 'Despoblacion', 'Despoblacion', 'Despoblacion',\n",
       "       'Despoblacion', 'Despoblacion', 'Despoblacion', 'Despoblacion',\n",
       "       'Despoblacion', 'Despoblacion', 'Despoblacion', 'Despoblacion',\n",
       "       'Despoblacion', 'Despoblacion', 'Despoblacion', 'Despoblacion',\n",
       "       'Despoblacion', 'Despoblacion', 'Despoblacion', 'Despoblacion',\n",
       "       'Despoblacion', 'Despoblacion', 'Despoblacion', 'Despoblacion',\n",
       "       'Despoblacion', 'Despoblacion', 'Despoblacion', 'Despoblacion',\n",
       "       'Despoblacion', 'Despoblacion', 'Despoblacion', 'Despoblacion',\n",
       "       'Despoblacion', 'Despoblacion', 'Despoblacion', 'Despoblacion',\n",
       "       'Despoblacion', 'Despoblacion', 'Despoblacion', 'Despoblacion',\n",
       "       'Despoblacion', 'Despoblacion', 'Despoblacion', 'Despoblacion',\n",
       "       'Despoblacion', 'Despoblacion', 'Despoblacion', 'Despoblacion',\n",
       "       'Despoblacion', 'Despoblacion', 'Despoblacion', 'Despoblacion',\n",
       "       'Despoblacion', 'Despoblacion', 'Despoblacion', 'Despoblacion',\n",
       "       'Despoblacion', 'Despoblacion', 'Despoblacion', 'Despoblacion',\n",
       "       'Despoblacion', 'Despoblacion', 'Despoblacion', 'Despoblacion',\n",
       "       'Despoblacion', 'Despoblacion', 'Despoblacion', 'Despoblacion',\n",
       "       'Despoblacion', 'Despoblacion', 'Despoblacion', 'Despoblacion',\n",
       "       'Despoblacion', 'Despoblacion', 'Despoblacion', 'Despoblacion',\n",
       "       'Despoblacion', 'Despoblacion', 'Despoblacion', 'Despoblacion',\n",
       "       'Despoblacion', 'Despoblacion', 'Despoblacion', 'Despoblacion',\n",
       "       'Despoblacion', 'Despoblacion', 'Despoblacion', 'Despoblacion',\n",
       "       'Despoblacion', 'Despoblacion', 'Despoblacion', 'Despoblacion',\n",
       "       'Despoblacion', 'Despoblacion', 'Despoblacion', 'Despoblacion',\n",
       "       'Despoblacion', 'Despoblacion', 'Despoblacion', 'Despoblacion',\n",
       "       'Despoblacion', 'Despoblacion', 'No despoblacion',\n",
       "       'No despoblacion', 'No despoblacion', 'No despoblacion',\n",
       "       'No despoblacion', 'No despoblacion', 'No despoblacion',\n",
       "       'No despoblacion', 'No despoblacion', 'No despoblacion',\n",
       "       'No despoblacion', 'No despoblacion', 'No despoblacion',\n",
       "       'No despoblacion', 'No despoblacion', 'No despoblacion',\n",
       "       'No despoblacion', 'No despoblacion', 'No despoblacion',\n",
       "       'No despoblacion', 'No despoblacion', 'No despoblacion',\n",
       "       'No despoblacion', 'No despoblacion', 'No despoblacion',\n",
       "       'No despoblacion', 'No despoblacion', 'No despoblacion',\n",
       "       'No despoblacion', 'No despoblacion', 'No despoblacion',\n",
       "       'No despoblacion', 'No despoblacion', 'No despoblacion',\n",
       "       'No despoblacion', 'No despoblacion', 'No despoblacion',\n",
       "       'No despoblacion', 'No despoblacion', 'No despoblacion',\n",
       "       'No despoblacion', 'No despoblacion', 'No despoblacion',\n",
       "       'No despoblacion', 'No despoblacion', 'No despoblacion',\n",
       "       'No despoblacion', 'No despoblacion', 'No despoblacion',\n",
       "       'No despoblacion', 'No despoblacion', 'No despoblacion',\n",
       "       'No despoblacion', 'No despoblacion', 'No despoblacion',\n",
       "       'No despoblacion', 'No despoblacion', 'No despoblacion',\n",
       "       'No despoblacion', 'No despoblacion', 'No despoblacion',\n",
       "       'No despoblacion', 'No despoblacion', 'No despoblacion',\n",
       "       'No despoblacion', 'No despoblacion', 'No despoblacion',\n",
       "       'No despoblacion', 'No despoblacion', 'No despoblacion',\n",
       "       'No despoblacion', 'No despoblacion', 'No despoblacion',\n",
       "       'No despoblacion', 'No despoblacion', 'No despoblacion',\n",
       "       'No despoblacion', 'No despoblacion', 'No despoblacion',\n",
       "       'No despoblacion', 'No despoblacion', 'No despoblacion',\n",
       "       'No despoblacion', 'No despoblacion', 'No despoblacion',\n",
       "       'No despoblacion', 'No despoblacion', 'No despoblacion',\n",
       "       'No despoblacion', 'No despoblacion', 'No despoblacion',\n",
       "       'No despoblacion', 'No despoblacion', 'No despoblacion',\n",
       "       'No despoblacion', 'No despoblacion', 'No despoblacion',\n",
       "       'No despoblacion', 'No despoblacion', 'No despoblacion',\n",
       "       'No despoblacion', 'No despoblacion', 'No despoblacion',\n",
       "       'No despoblacion', 'No despoblacion', 'No despoblacion',\n",
       "       'No despoblacion', 'No despoblacion', 'No despoblacion',\n",
       "       'No despoblacion', 'No despoblacion', 'No despoblacion',\n",
       "       'No despoblacion', 'No despoblacion', 'No despoblacion',\n",
       "       'No despoblacion', 'No despoblacion', 'No despoblacion',\n",
       "       'No despoblacion', 'No despoblacion', 'No despoblacion',\n",
       "       'No despoblacion', 'No despoblacion', 'No despoblacion',\n",
       "       'No despoblacion', 'No despoblacion', 'No despoblacion',\n",
       "       'No despoblacion', 'No despoblacion', 'No despoblacion',\n",
       "       'No despoblacion', 'No despoblacion', 'No despoblacion',\n",
       "       'No despoblacion', 'No despoblacion', 'No despoblacion',\n",
       "       'No despoblacion', 'No despoblacion', 'No despoblacion',\n",
       "       'No despoblacion', 'No despoblacion', 'No despoblacion',\n",
       "       'No despoblacion', 'No despoblacion', 'No despoblacion',\n",
       "       'No despoblacion', 'No despoblacion', 'No despoblacion',\n",
       "       'No despoblacion'], dtype='<U15')"
      ]
     },
     "metadata": {},
     "execution_count": 89
    }
   ],
   "source": [
    "actual = np.array(clases)\n",
    "actual"
   ]
  },
  {
   "cell_type": "code",
   "execution_count": 93,
   "metadata": {},
   "outputs": [
    {
     "output_type": "execute_result",
     "data": {
      "text/plain": [
       "'Despoblacion'"
      ]
     },
     "metadata": {},
     "execution_count": 93
    }
   ],
   "source": [
    "pred[0]\n"
   ]
  },
  {
   "cell_type": "code",
   "execution_count": 94,
   "metadata": {},
   "outputs": [
    {
     "output_type": "execute_result",
     "data": {
      "text/plain": [
       "'despoblación\\\\despoblacion_20minutos_01.09.2020_13_53h_EP.txt'"
      ]
     },
     "metadata": {},
     "execution_count": 94
    }
   ],
   "source": [
    "noticias[0]"
   ]
  },
  {
   "cell_type": "code",
   "execution_count": 90,
   "metadata": {},
   "outputs": [],
   "source": [
    "count = 0\n",
    "for i in range (len(pred)):\n",
    "    if pred[i]==actual[i]:\n",
    "            count = count + 1\n",
    "            "
   ]
  },
  {
   "cell_type": "code",
   "execution_count": 91,
   "metadata": {},
   "outputs": [
    {
     "output_type": "execute_result",
     "data": {
      "text/plain": [
       "303"
      ]
     },
     "metadata": {},
     "execution_count": 91
    }
   ],
   "source": [
    "count"
   ]
  },
  {
   "cell_type": "code",
   "execution_count": 92,
   "metadata": {},
   "outputs": [
    {
     "output_type": "execute_result",
     "data": {
      "text/plain": [
       "307"
      ]
     },
     "metadata": {},
     "execution_count": 92
    }
   ],
   "source": [
    "len(pred)"
   ]
  },
  {
   "cell_type": "code",
   "execution_count": null,
   "metadata": {},
   "outputs": [],
   "source": []
  }
 ]
}